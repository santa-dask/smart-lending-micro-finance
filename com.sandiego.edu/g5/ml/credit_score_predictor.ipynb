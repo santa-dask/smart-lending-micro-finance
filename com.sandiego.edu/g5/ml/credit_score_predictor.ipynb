{
 "cells": [
  {
   "cell_type": "code",
   "execution_count": 1,
   "metadata": {},
   "outputs": [],
   "source": [
    "import pandas"
   ]
  },
  {
   "cell_type": "markdown",
   "metadata": {},
   "source": [
    "1. import libraries\n",
    "2. Import data set\n",
    "3. Applu EDAs\n",
    "4. Data analysis and visualisation\n",
    "5. Model selection\n",
    "6. Split train and test data\n",
    "7. Train and Fit the model\n",
    "8. Predict\n",
    "9. Optional export the trained model for reusing\n"
   ]
  },
  {
   "cell_type": "markdown",
   "metadata": {},
   "source": []
  }
 ],
 "metadata": {
  "kernelspec": {
   "display_name": "Python 3.9.18 ('base')",
   "language": "python",
   "name": "python3"
  },
  "language_info": {
   "name": "python",
   "version": "3.9.18"
  },
  "orig_nbformat": 4,
  "vscode": {
   "interpreter": {
    "hash": "4ac9786a0f64ca5b19301b7c5150fe9bb4f7e1402f0ec1e8500605c0f9e9ab6a"
   }
  }
 },
 "nbformat": 4,
 "nbformat_minor": 2
}
