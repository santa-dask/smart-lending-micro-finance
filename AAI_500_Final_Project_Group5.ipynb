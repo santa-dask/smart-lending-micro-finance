{
  "nbformat": 4,
  "nbformat_minor": 0,
  "metadata": {
    "colab": {
      "provenance": [],
      "toc_visible": true
    },
    "kernelspec": {
      "name": "python3",
      "display_name": "Python 3"
    }
  },
  "cells": [
    {
      "cell_type": "markdown",
      "metadata": {
        "id": "IO-0PcjtbjVZ"
      },
      "source": [
        "# Group 5 Team Members\n",
        "Vikrant Tiwari\n",
        "\n",
        "Santa Das Karmakar\n",
        "\n",
        "Karan Verma\n",
        "\n",
        "\n"
      ]
    },
    {
      "cell_type": "markdown",
      "metadata": {
        "id": "fuTPMWuqVzCx"
      },
      "source": [
        "## Problem Conceptualization\n",
        "\n",
        "A Loan Eligibility Calculator for Small and Micro Businesses in India\n",
        "\n",
        "**Problem Statement:**\n",
        "\n",
        "Despite the crucial role of small and micro businesses (SMBs) in India's economy, accessing loans remains a significant challenge due to the lack of a standardized and efficient loan eligibility assessment process. This often results in inconsistent decision-making, delays in loan disbursement, and missed opportunities for SMBs.\n",
        "\n",
        "**Why is this problem important?**\n",
        "\n",
        "1. **Inefficient Decision Making:** Traditional loan assessment methods can be subjective and time-consuming, leading to inconsistent decisions that may not accurately reflect the true creditworthiness of SMBs.\n",
        "2. **Delayed Loan Disbursement:** The manual process of loan assessment can create delays in loan disbursement, hindering the growth and expansion of SMBs.\n",
        "3. **Missed Opportunities:** SMBs may lose valuable business opportunities due to the inability to access timely financing.\n",
        "4. **Financial Exclusion:** Many SMBs, especially those in rural areas or with limited financial literacy, may be excluded from the formal financial system due to complex loan application processes.\n",
        "\n",
        "**Proposed Solution:**\n",
        "\n",
        "A loan eligibility calculator, specifically designed for Indian SMBs, can address these challenges by providing a standardized, data-driven, and efficient tool for assessing loan applications. This calculator would leverage various factors such as customer profile, business performance, social media presence, revenue, and credit score to determine the likelihood of loan repayment. By automating the assessment process, the calculator can streamline the loan application process, reduce decision-making time, and improve access to finance for SMBs.\n",
        "\n",
        "\n",
        "**What is your Y variable?**\n",
        "\n",
        "final_loan_verdict\n",
        "\n",
        "**What are your X variables?**\n",
        "\n",
        "Borrower-related variables\n",
        "* borrower_age\n",
        "* borrower_income\n",
        "* borrower_profession\n",
        "* borrower_address  or borrower_pincode\n",
        "\n",
        "Business-related variables\n",
        "* business address\n",
        "* business annual income, revenue, and expense\n",
        "* business_age\n",
        "* business sector\n",
        "* business_no_of_employees\n",
        "* business_revenue_1year, 2year, 3year, 4year\n",
        "* business_credit_score\n",
        "\n",
        "Loan-related variables\n",
        "* loan_amount_asked\n",
        "* loan_amount_offered\n",
        "* loan_interest rate\n",
        "* loan_duration_months\n",
        "* loan_monthly_payment\n",
        "\n",
        "Other variables\n",
        "* business default\n",
        "* business_previous_loan,\n",
        "* business_previous_loan_paid\n",
        "* borrower_business_address_match\n",
        "* final credit score\n",
        "* current_loan_request_amount\n",
        "* duration\n",
        "* linkedin_profile\n",
        "* facebook_profile\n",
        "* business reviews, business review count\n",
        "* business_social_media_mentions\n",
        "\n",
        "\n",
        "**How do your X variables relate to the problem you are going to solve?**\n",
        "\n",
        "**Borrower-related variables:**\n",
        "\n",
        "borrower_age: Older borrowers might have more established businesses and credit histories, which could increase their chances of approval. However, younger borrowers might have more growth potential and innovative ideas.\n",
        "\n",
        "borrower_income: Higher income could indicate financial stability and ability to repay the loan.\n",
        "\n",
        "borrower_profession: Certain professions might have higher perceived risks or rewards, influencing the loan decision.\n",
        "\n",
        "borrower_address: Geographic location could affect factors like local economic conditions, property values, and cost of living.\n",
        "\n",
        "borrower_pincode: Pincode could provide insights into the borrower's neighborhood and socio-economic status.\n",
        "Business-related variables:\n",
        "\n",
        "business address: Similar to borrower address, it can provide information about the business's location and local market conditions.\n",
        "\n",
        "business annual income, revenue, and expense: These metrics indicate the business's financial health and profitability.\n",
        "\n",
        "business_age: Older businesses might have more established customer bases and track records.\n",
        "\n",
        "business sector: Some sectors might be considered riskier or more stable than others.\n",
        "\n",
        "business_no_of_employees: The size of the business can indicate its scale and potential for growth.\n",
        "\n",
        "business_revenue_1year, 2year, 3year, 4year: These historical data points can reveal growth trends and stability.\n",
        "\n",
        "business_credit_score: A measure of the business's creditworthiness based on its past financial behavior.\n",
        "\n",
        "Loan-related variables:\n",
        "\n",
        "loan_amount_asked: The size of the loan request might influence the risk perceived by the lender.\n",
        "\n",
        "loan_amount_offered: The amount the lender is willing to provide can indicate their assessment of the borrower's creditworthiness.\n",
        "\n",
        "loan_interest rate: A higher interest rate might suggest a higher perceived risk.\n",
        "\n",
        "loan_duration_months: Longer loan terms might increase the risk of default.\n",
        "\n",
        "loan_monthly_payment: The borrower's ability to afford the monthly payments is crucial.\n",
        "\n",
        "Other variables:\n",
        "\n",
        "business default: A history of defaults might negatively impact the loan decision.\n",
        "\n",
        "business_previous_loan, business_previous_loan_paid: Previous loan performance can be indicative of future behavior.\n",
        "\n",
        "borrower_business_address_match: If the borrower's address matches the business address, it might suggest a stronger connection to the business and a higher stake in its success.\n",
        "\n",
        "final credit score: A comprehensive assessment of the borrower's creditworthiness.\n",
        "\n",
        "current_loan_request_amount: The amount of the current loan request might influence the decision.\n",
        "\n",
        "duration: The length of the borrower's relationship with the lender might indicate trust and reliability.\n",
        "\n",
        "linkedin_profile, facebook_profile: Social media presence can provide insights into the borrower's professional network and reputation.\n",
        "\n",
        "business reviews, business review count: Customer reviews and their quantity can reflect the business's reputation and customer satisfaction.\n",
        "\n",
        "business_social_media_mentions: Mentions on social media can indicate brand awareness and engagement.\n",
        "\n",
        "\n",
        "**Who will your model be most useful for?**\n",
        "\n",
        "The loan eligibility calculator would be most useful for the following groups:\n",
        "\n",
        "1. **Small and Micro Businesses (SMBs):** The calculator would provide a transparent and efficient way for SMBs to assess their loan eligibility and understand the factors that influence their creditworthiness. This would help them make informed decisions about loan applications and reduce the likelihood of rejection.\n",
        "2. **Financial Institutions:** The calculator could be used by financial institutions to streamline their loan application process, improve decision-making accuracy, and reduce operational costs. It could also help them identify potential customers who may be eligible for loans but may not have applied due to perceived barriers.\n",
        "3. **Government Agencies:** The calculator could be used by government agencies to support the growth of the SMB sector by providing a standardized tool for assessing loan applications and ensuring that loans are disbursed efficiently. It could also help to promote financial inclusion by making it easier for SMBs to access credit.\n",
        "4. **Credit Bureaus:** The calculator could be used by credit bureaus to enhance their data-driven insights into the creditworthiness of SMBs and provide more accurate credit scores.\n",
        "\n",
        "\n",
        "**How can your model be used practically in the real-world?**\n",
        "**Practical Applications of the Loan Eligibility Calculator:**\n",
        "\n",
        "1. **Online Loan Application Portals:** Financial institutions can integrate the calculator into their online loan application portals. Applicants can input their required information, and the calculator would instantly provide a preliminary assessment of their eligibility.\n",
        "2. **Mobile Apps:** A mobile app could be developed for SMBs to access the calculator conveniently. This would allow them to assess their eligibility on-the-go and make informed decisions about loan applications.\n",
        "3. **Financial Advisors:** Financial advisors can use the calculator to provide personalized advice to their clients regarding loan eligibility and potential financing options.\n",
        "4. **Government Initiatives:** The calculator could be used as a tool to support government programs aimed at promoting the growth of the SMB sector. It could be integrated into government-sponsored loan schemes or used to provide financial literacy training to SMBs.\n",
        "5. **Research and Analysis:** The calculator could be used for research purposes to study the factors influencing loan eligibility for SMBs in India. This could help identify areas for improvement in the financial system and inform policy decisions.\n",
        "\n",
        "**Benefits of Practical Implementation:**\n",
        "\n",
        "* **Improved Efficiency:** The calculator can streamline the loan application process for both SMBs and financial institutions, reducing time and effort.\n",
        "* **Enhanced Access to Finance:** By providing a transparent and efficient tool for assessing loan eligibility, the calculator can help to improve access to finance for SMBs, especially those in underserved regions.\n",
        "* **Data-Driven Decision Making:** The calculator can help financial institutions make more informed and consistent loan decisions based on objective criteria.\n",
        "* **Financial Inclusion:** The calculator can contribute to financial inclusion by making it easier for SMBs to access credit and participate in the formal financial system.\n",
        "* **Economic Growth:** By facilitating access to finance for SMBs, the calculator can support economic growth and job creation.\n"
      ]
    },
    {
      "cell_type": "markdown",
      "metadata": {
        "id": "uyQGUJKWVN-m"
      },
      "source": [
        "# Data"
      ]
    },
    {
      "cell_type": "markdown",
      "source": [
        "##Data Import"
      ],
      "metadata": {
        "id": "dbsIciPh7eUp"
      }
    },
    {
      "cell_type": "markdown",
      "source": [
        "##Transformation"
      ],
      "metadata": {
        "id": "8Vj4pHkn7jqC"
      }
    },
    {
      "cell_type": "markdown",
      "source": [
        "##Cleanup"
      ],
      "metadata": {
        "id": "RZFjUHKI7rHU"
      }
    },
    {
      "cell_type": "markdown",
      "source": [
        "##Outliers"
      ],
      "metadata": {
        "id": "cw_qhOqD7wIN"
      }
    },
    {
      "cell_type": "markdown",
      "source": [
        "##NUll Values"
      ],
      "metadata": {
        "id": "SYiv7kWP7zTM"
      }
    },
    {
      "cell_type": "markdown",
      "source": [
        "##Transformation"
      ],
      "metadata": {
        "id": "s2d5wg_571x9"
      }
    },
    {
      "cell_type": "markdown",
      "metadata": {
        "id": "rU-tWJlUH6LS"
      },
      "source": [
        "## Final Data Set"
      ]
    },
    {
      "cell_type": "markdown",
      "metadata": {
        "id": "ghayF03gVaf2"
      },
      "source": [
        "#EDA"
      ]
    },
    {
      "cell_type": "markdown",
      "source": [
        "##Descriptive Statistics"
      ],
      "metadata": {
        "id": "MdEOBWW_8JZp"
      }
    },
    {
      "cell_type": "code",
      "source": [
        "# Load the data\n",
        "url = 'path_to_your_dataset.csv'\n",
        "data = pd.read_csv(url)\n",
        "\n",
        "# Display descriptive statistics\n",
        "desc_stats = data.describe()\n",
        "print(desc_stats)\n"
      ],
      "metadata": {
        "id": "D7JiVByy8Pe8"
      },
      "execution_count": null,
      "outputs": []
    },
    {
      "cell_type": "markdown",
      "source": [
        "**Interpretation:** Descriptive statistics give us an overview of the dataset, showing measures like mean, median, standard deviation, min, and max values for each numerical column. This helps to understand the central tendency and variability of the dataset.\n"
      ],
      "metadata": {
        "id": "-svm4qTY8Qar"
      }
    },
    {
      "cell_type": "markdown",
      "source": [
        "##Missing Values Analysis\n"
      ],
      "metadata": {
        "id": "MCuypx-H8X0i"
      }
    },
    {
      "cell_type": "code",
      "source": [
        "# Check for missing values\n",
        "missing_values = data.isnull().sum()\n",
        "print(missing_values)"
      ],
      "metadata": {
        "id": "teOxY7Kb8caa"
      },
      "execution_count": null,
      "outputs": []
    },
    {
      "cell_type": "markdown",
      "source": [
        "**Interpretation:** Identifying missing values is crucial as it can affect the analysis. This step helps to understand which columns have missing data and to what extent, aiding in deciding how to handle them (e.g., imputation or removal).\n"
      ],
      "metadata": {
        "id": "CPysEq1S8bpl"
      }
    },
    {
      "cell_type": "markdown",
      "source": [
        "##Correlation Analysis"
      ],
      "metadata": {
        "id": "8N4TDOql8kRg"
      }
    },
    {
      "cell_type": "code",
      "source": [
        "# Compute the correlation matrix\n",
        "correlation_matrix = data.corr()\n",
        "print(correlation_matrix)\n",
        "\n",
        "# Plotting the correlation heatmap\n",
        "import seaborn as sns\n",
        "import matplotlib.pyplot as plt\n",
        "\n",
        "plt.figure(figsize=(15, 10))\n",
        "sns.heatmap(correlation_matrix, annot=True, cmap='coolwarm')\n",
        "plt.title('Correlation Matrix')\n",
        "plt.show()\n"
      ],
      "metadata": {
        "id": "hZ052jjK8nXj"
      },
      "execution_count": null,
      "outputs": []
    },
    {
      "cell_type": "markdown",
      "source": [
        "**Interpretation:** Correlation analysis helps to identify the relationship between numerical variables. A heatmap visually represents the strength and direction of these relationships, aiding in understanding which variables might be highly correlated with each other or with the target variable."
      ],
      "metadata": {
        "id": "jvsRZ--Q8ntR"
      }
    },
    {
      "cell_type": "markdown",
      "source": [
        "##Distribution of Loan Amounts\n"
      ],
      "metadata": {
        "id": "G6ukJtPX8wbq"
      }
    },
    {
      "cell_type": "code",
      "source": [
        "# Plot the distribution of loan amounts\n",
        "plt.figure(figsize=(10, 6))\n",
        "sns.histplot(data['loan_amount_asked'], bins=30, kde=True)\n",
        "plt.title('Distribution of Loan Amounts Asked')\n",
        "plt.xlabel('Loan Amount Asked')\n",
        "plt.ylabel('Frequency')\n",
        "plt.show()\n"
      ],
      "metadata": {
        "id": "WQbfZ_oE8xyW"
      },
      "execution_count": null,
      "outputs": []
    },
    {
      "cell_type": "markdown",
      "source": [
        "**Interpretation:** The distribution plot shows how loan amounts are spread across the dataset. This can reveal patterns such as skewness, presence of outliers, and the central tendency of loan amounts requested by borrowers.\n"
      ],
      "metadata": {
        "id": "GdgVMXw_8yEN"
      }
    },
    {
      "cell_type": "markdown",
      "source": [
        "##Loan Amount vs Business Annual Income\n"
      ],
      "metadata": {
        "id": "IhpCc0OK851e"
      }
    },
    {
      "cell_type": "code",
      "source": [
        "# Scatter plot of Loan Amount vs Business Annual Income\n",
        "plt.figure(figsize=(10, 6))\n",
        "sns.scatterplot(x='business_annual_income', y='loan_amount_asked', data=data)\n",
        "plt.title('Loan Amount vs Business Annual Income')\n",
        "plt.xlabel('Business Annual Income')\n",
        "plt.ylabel('Loan Amount Asked')\n",
        "plt.show()\n"
      ],
      "metadata": {
        "id": "YynLwXzq87cF"
      },
      "execution_count": null,
      "outputs": []
    },
    {
      "cell_type": "markdown",
      "source": [
        "**Interpretation:** The scatter plot helps to visualize the relationship between the loan amount asked and the business annual income. It can reveal trends, such as whether higher-income businesses tend to ask for larger loans, and any potential outliers."
      ],
      "metadata": {
        "id": "w82nEMpj8789"
      }
    },
    {
      "cell_type": "markdown",
      "source": [
        "##Loan Default Analysis"
      ],
      "metadata": {
        "id": "n0b8YoIM9DIu"
      }
    },
    {
      "cell_type": "code",
      "source": [
        "# Group by default status and calculate the mean loan amount and interest rate\n",
        "default_analysis = data.groupby('business_default')[['loan_amount_asked', 'loan_interest_rate']].mean()\n",
        "print(default_analysis)\n"
      ],
      "metadata": {
        "id": "mXXyQE8s9EhN"
      },
      "execution_count": null,
      "outputs": []
    },
    {
      "cell_type": "markdown",
      "source": [
        "**Interpretation:** This analysis provides insights into the characteristics of loans that defaulted versus those that did not. By comparing the mean loan amount and interest rate for defaulted and non-defaulted loans, we can identify patterns that might indicate higher risk of default.\n"
      ],
      "metadata": {
        "id": "KiUjZZHH9FGn"
      }
    },
    {
      "cell_type": "markdown",
      "source": [
        "#Pre-Modeling Data Adjustments"
      ],
      "metadata": {
        "id": "6zGUgkCY9vZ2"
      }
    },
    {
      "cell_type": "markdown",
      "source": [
        "##Feature Matrix and Target Variable"
      ],
      "metadata": {
        "id": "3AKO4x_k92YL"
      }
    },
    {
      "cell_type": "markdown",
      "source": [
        "##Drop categorical variables not used in modeling"
      ],
      "metadata": {
        "id": "fz4k522f97ZX"
      }
    },
    {
      "cell_type": "markdown",
      "source": [
        "##Feature Selection (K Best Features)"
      ],
      "metadata": {
        "id": "yMA90BRW-In9"
      }
    },
    {
      "cell_type": "markdown",
      "metadata": {
        "id": "tHOI8DOnVc8k"
      },
      "source": [
        "# Modeling"
      ]
    },
    {
      "cell_type": "markdown",
      "metadata": {
        "id": "N1JW3AQfWI70"
      },
      "source": [
        "## Data Splitting"
      ]
    },
    {
      "cell_type": "markdown",
      "metadata": {
        "id": "Vww_lE7-WCO6"
      },
      "source": [
        "## Min/Max Scaling"
      ]
    },
    {
      "cell_type": "markdown",
      "metadata": {
        "id": "21eMVczaWFt7"
      },
      "source": [
        "# Fit the Model"
      ]
    },
    {
      "cell_type": "markdown",
      "source": [
        "##Model 1"
      ],
      "metadata": {
        "id": "AzPhMpHu-dyI"
      }
    },
    {
      "cell_type": "markdown",
      "source": [
        "##Model 2"
      ],
      "metadata": {
        "id": "HDE55T9f-fF6"
      }
    },
    {
      "cell_type": "markdown",
      "metadata": {
        "id": "ugK6bIY_WRbI"
      },
      "source": [
        "# Evaluate the Model"
      ]
    },
    {
      "cell_type": "markdown",
      "metadata": {
        "id": "zwMCpkrvuRb0"
      },
      "source": [
        "## Model 1"
      ]
    },
    {
      "cell_type": "markdown",
      "metadata": {
        "id": "EwxBX1NXZpUp"
      },
      "source": [
        "###R Square"
      ]
    },
    {
      "cell_type": "markdown",
      "metadata": {
        "id": "VWHm-CedZrrM"
      },
      "source": [
        "###MAE (Mean Absolute Error)"
      ]
    },
    {
      "cell_type": "markdown",
      "metadata": {
        "id": "DK1LHpi1Zlak"
      },
      "source": [
        "###Bias (Mean Error)"
      ]
    },
    {
      "cell_type": "markdown",
      "source": [
        "#Interpretability"
      ],
      "metadata": {
        "id": "o0gu51e9-1hZ"
      }
    },
    {
      "cell_type": "markdown",
      "metadata": {
        "id": "6yYZ4g9EWUOc"
      },
      "source": [
        "# Thoughts and Conclusions\n"
      ]
    }
  ]
}